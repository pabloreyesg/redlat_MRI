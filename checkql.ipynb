{
 "cells": [
  {
   "cell_type": "code",
   "execution_count": 10,
   "id": "473dd12e-4e7d-4fb5-ae14-8b2d86a4da92",
   "metadata": {},
   "outputs": [
    {
     "data": {
      "image/png": "[encoded data removed]",
      "text/plain": [
       "<Figure size 640x480 with 1 Axes>"
      ]
     },
     "metadata": {},
     "output_type": "display_data"
    }
   ],
   "source": [
    "import pandas as pd\n",
    "import matplotlib.pyplot as plt\n",
    "\n",
    "# Leer la base de datos\n",
    "df = pd.read_csv('nifti_info.csv')\n",
    "\n",
    "# Crear la columna 'site' con los primeros seis caracteres de 'archivo'\n",
    "df['site'] = df['Archivo'].str[:6]\n",
    "\n",
    "# Quitar los primeros tres caracteres de la columna 'site'\n",
    "df['site'] = df['site'].str[4:]\n",
    "\n",
    "# Crear el gráfico de barras de frecuencia\n",
    "df.groupby(['site', 'Resultado']).size().unstack().plot(kind='bar', stacked=True)\n",
    "\n",
    "# Ajustar las etiquetas\n",
    "plt.xlabel('Site')\n",
    "plt.ylabel('Frecuencia')\n",
    "plt.title('Frecuencia de resultados por site para T1')\n",
    "plt.legend(title='Resultado', bbox_to_anchor=(1.05, 1), loc='upper left')\n",
    "\n",
    "# Mostrar el gráfico\n",
    "plt.show()\n",
    "\n"
   ]
  },
  {
   "cell_type": "code",
   "execution_count": 11,
   "id": "d0cc3eff-af6a-40ef-861e-a5a8010b8108",
   "metadata": {},
   "outputs": [
    {
     "name": "stdout",
     "output_type": "stream",
     "text": [
      "Tabla de frecuencia de resultados por sitio:\n"
     ]
    },
    {
     "data": {
      "text/html": [
       "<style type=\"text/css\">\n",
       "#T_74d51 th {\n",
       "  text-align: center;\n",
       "}\n",
       "#T_74d51_row0_col0, #T_74d51_row0_col1, #T_74d51_row0_col2, #T_74d51_row1_col0, #T_74d51_row1_col1, #T_74d51_row1_col2, #T_74d51_row2_col0, #T_74d51_row2_col1, #T_74d51_row2_col2, #T_74d51_row3_col0, #T_74d51_row3_col1, #T_74d51_row3_col2, #T_74d51_row4_col0, #T_74d51_row4_col1, #T_74d51_row4_col2, #T_74d51_row5_col0, #T_74d51_row5_col1, #T_74d51_row5_col2, #T_74d51_row6_col0, #T_74d51_row6_col1, #T_74d51_row6_col2, #T_74d51_row7_col0, #T_74d51_row7_col1, #T_74d51_row7_col2, #T_74d51_row8_col0, #T_74d51_row8_col1, #T_74d51_row8_col2, #T_74d51_row9_col0, #T_74d51_row9_col1, #T_74d51_row9_col2 {\n",
       "  text-align: center;\n",
       "}\n",
       "</style>\n",
       "<table id=\"T_74d51\">\n",
       "  <thead>\n",
       "    <tr>\n",
       "      <th class=\"index_name level0\" >Resultado</th>\n",
       "      <th id=\"T_74d51_level0_col0\" class=\"col_heading level0 col0\" >downto</th>\n",
       "      <th id=\"T_74d51_level0_col1\" class=\"col_heading level0 col1\" >normal</th>\n",
       "      <th id=\"T_74d51_level0_col2\" class=\"col_heading level0 col2\" >Total</th>\n",
       "    </tr>\n",
       "    <tr>\n",
       "      <th class=\"index_name level0\" >site</th>\n",
       "      <th class=\"blank col0\" >&nbsp;</th>\n",
       "      <th class=\"blank col1\" >&nbsp;</th>\n",
       "      <th class=\"blank col2\" >&nbsp;</th>\n",
       "    </tr>\n",
       "  </thead>\n",
       "  <tbody>\n",
       "    <tr>\n",
       "      <th id=\"T_74d51_level0_row0\" class=\"row_heading level0 row0\" >AF</th>\n",
       "      <td id=\"T_74d51_row0_col0\" class=\"data row0 col0\" >0</td>\n",
       "      <td id=\"T_74d51_row0_col1\" class=\"data row0 col1\" >58</td>\n",
       "      <td id=\"T_74d51_row0_col2\" class=\"data row0 col2\" >58</td>\n",
       "    </tr>\n",
       "    <tr>\n",
       "      <th id=\"T_74d51_level0_row1\" class=\"row_heading level0 row1\" >BE</th>\n",
       "      <td id=\"T_74d51_row1_col0\" class=\"data row1 col0\" >25</td>\n",
       "      <td id=\"T_74d51_row1_col1\" class=\"data row1 col1\" >30</td>\n",
       "      <td id=\"T_74d51_row1_col2\" class=\"data row1 col2\" >55</td>\n",
       "    </tr>\n",
       "    <tr>\n",
       "      <th id=\"T_74d51_level0_row2\" class=\"row_heading level0 row2\" >BN</th>\n",
       "      <td id=\"T_74d51_row2_col0\" class=\"data row2 col0\" >1</td>\n",
       "      <td id=\"T_74d51_row2_col1\" class=\"data row2 col1\" >61</td>\n",
       "      <td id=\"T_74d51_row2_col2\" class=\"data row2 col2\" >62</td>\n",
       "    </tr>\n",
       "    <tr>\n",
       "      <th id=\"T_74d51_level0_row3\" class=\"row_heading level0 row3\" >CU</th>\n",
       "      <td id=\"T_74d51_row3_col0\" class=\"data row3 col0\" >0</td>\n",
       "      <td id=\"T_74d51_row3_col1\" class=\"data row3 col1\" >392</td>\n",
       "      <td id=\"T_74d51_row3_col2\" class=\"data row3 col2\" >392</td>\n",
       "    </tr>\n",
       "    <tr>\n",
       "      <th id=\"T_74d51_level0_row4\" class=\"row_heading level0 row4\" >LO</th>\n",
       "      <td id=\"T_74d51_row4_col0\" class=\"data row4 col0\" >2</td>\n",
       "      <td id=\"T_74d51_row4_col1\" class=\"data row4 col1\" >67</td>\n",
       "      <td id=\"T_74d51_row4_col2\" class=\"data row4 col2\" >69</td>\n",
       "    </tr>\n",
       "    <tr>\n",
       "      <th id=\"T_74d51_level0_row5\" class=\"row_heading level0 row5\" >MA</th>\n",
       "      <td id=\"T_74d51_row5_col0\" class=\"data row5 col0\" >1</td>\n",
       "      <td id=\"T_74d51_row5_col1\" class=\"data row5 col1\" >119</td>\n",
       "      <td id=\"T_74d51_row5_col2\" class=\"data row5 col2\" >120</td>\n",
       "    </tr>\n",
       "    <tr>\n",
       "      <th id=\"T_74d51_level0_row6\" class=\"row_heading level0 row6\" >RE</th>\n",
       "      <td id=\"T_74d51_row6_col0\" class=\"data row6 col0\" >16</td>\n",
       "      <td id=\"T_74d51_row6_col1\" class=\"data row6 col1\" >2</td>\n",
       "      <td id=\"T_74d51_row6_col2\" class=\"data row6 col2\" >18</td>\n",
       "    </tr>\n",
       "    <tr>\n",
       "      <th id=\"T_74d51_level0_row7\" class=\"row_heading level0 row7\" >SL</th>\n",
       "      <td id=\"T_74d51_row7_col0\" class=\"data row7 col0\" >29</td>\n",
       "      <td id=\"T_74d51_row7_col1\" class=\"data row7 col1\" >70</td>\n",
       "      <td id=\"T_74d51_row7_col2\" class=\"data row7 col2\" >99</td>\n",
       "    </tr>\n",
       "    <tr>\n",
       "      <th id=\"T_74d51_level0_row8\" class=\"row_heading level0 row8\" >TA</th>\n",
       "      <td id=\"T_74d51_row8_col0\" class=\"data row8 col0\" >0</td>\n",
       "      <td id=\"T_74d51_row8_col1\" class=\"data row8 col1\" >81</td>\n",
       "      <td id=\"T_74d51_row8_col2\" class=\"data row8 col2\" >81</td>\n",
       "    </tr>\n",
       "    <tr>\n",
       "      <th id=\"T_74d51_level0_row9\" class=\"row_heading level0 row9\" >Total</th>\n",
       "      <td id=\"T_74d51_row9_col0\" class=\"data row9 col0\" >74</td>\n",
       "      <td id=\"T_74d51_row9_col1\" class=\"data row9 col1\" >880</td>\n",
       "      <td id=\"T_74d51_row9_col2\" class=\"data row9 col2\" >954</td>\n",
       "    </tr>\n",
       "  </tbody>\n",
       "</table>\n"
      ],
      "text/plain": [
       "<pandas.io.formats.style.Styler at 0x7fc7948d9930>"
      ]
     },
     "metadata": {},
     "output_type": "display_data"
    }
   ],
   "source": [
    "# Crear una tabla de frecuencia\n",
    "tabla_frecuencia = pd.pivot_table(df, index='site', columns='Resultado', aggfunc='size', fill_value=0)\n",
    "\n",
    "# Agregar totales\n",
    "tabla_frecuencia['Total'] = tabla_frecuencia.sum(axis=1)\n",
    "\n",
    "# Agregar una fila con totales\n",
    "tabla_frecuencia.loc['Total'] = tabla_frecuencia.sum()\n",
    "\n",
    "# Agregar líneas divisorias\n",
    "tabla_frecuencia_styled = tabla_frecuencia.style \\\n",
    "    .set_properties(**{'text-align': 'center'}) \\\n",
    "    .set_table_styles([dict(selector='th', props=[('text-align', 'center')])])\n",
    "\n",
    "# Mostrar la tabla\n",
    "print(\"Tabla de frecuencia de resultados por sitio:\")\n",
    "display(tabla_frecuencia_styled)\n"
   ]
  },
  {
   "cell_type": "code",
   "execution_count": null,
   "id": "dbced515-6556-4cf4-838e-6219ab656519",
   "metadata": {},
   "outputs": [],
   "source": []
  },
  {
   "cell_type": "code",
   "execution_count": null,
   "id": "c4039eb6-4acd-4706-a182-4a7496e5dc42",
   "metadata": {},
   "outputs": [],
   "source": []
  }
 ],
 "metadata": {
  "kernelspec": {
   "display_name": "Python 3 (ipykernel)",
   "language": "python",
   "name": "python3"
  },
  "language_info": {
   "codemirror_mode": {
    "name": "ipython",
    "version": 3
   },
   "file_extension": ".py",
   "mimetype": "text/x-python",
   "name": "python",
   "nbconvert_exporter": "python",
   "pygments_lexer": "ipython3",
   "version": "3.10.0"
  }
 },
 "nbformat": 4,
 "nbformat_minor": 5
}
